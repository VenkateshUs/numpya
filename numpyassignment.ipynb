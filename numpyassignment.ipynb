{
 "cells": [
  {
   "cell_type": "markdown",
   "id": "1cd1c86c-61c7-44a6-8e3a-c45f011289dc",
   "metadata": {},
   "source": [
    "#1. What is a Python library? Why do we use Python libraries?\n",
    "\n",
    "A Python library is collection of functions/ pre-written  codes which will make  the tasks more efficient and Easy.\n",
    "\n",
    "We use python libraries to eliminate the writing of code from scratch and python libraries are \"reusable\"\n"
   ]
  },
  {
   "cell_type": "markdown",
   "id": "1cdf1135-800b-4004-a0bd-677b7f919a23",
   "metadata": {},
   "source": [
    "#2. What is the difference between Numpy array and List?\n",
    "\n",
    "\n",
    "1 Type of Elements:\n",
    "  Numpy array has homogenous data structures types in the container.where as List as heterogenous collection of data structures types.\n",
    "  This allows for more efficient storage and operations for Numpy array.\n",
    "\n",
    "2 Memory efficency:\n",
    "  Numpy arrays are more memory efficient, as they store data in a continuous block of memory and have a fixed data type for all elements where as Lists are generally less memory efficient compared to NumPy arrays. This is because lists store additional information, such as the type of each element(heterogenous) and the size of the list.\n",
    " \n",
    "3 Performance:\n",
    " NumPy arrays are designed for numerical operations and are more efficient for large-scale numerical computations. NumPy is implemented in C and Fortran, which contributes to its performance. C language has the fastest computation compare to any other programming Language.\n",
    " Lists are more flexible but may be slower for numerical computations compared to NumPy arrays.\n",
    "\n",
    "4 Functionality:\n",
    "   NumPy provides a wide range of functions and operations for numerical computing, such as element-wise operations, linear algebra, statistical operations, and more. These operations are often faster than equivalent operations on lists.\n",
    "   Lists provide a variety of built-in methods for general-purpose tasks. However, for numerical operations, these methods may not be as optimized as the functions provided by NumPy.\n",
    "\n",
    "5  Syntax:\n",
    "    NumPy introduces its own array object with its own syntax. NumPy arrays can be created using the numpy.array() constructor.\n",
    "    List syntax is straightforward and part of the core Python language.\n",
    "\n"
   ]
  },
  {
   "cell_type": "markdown",
   "id": "8005d240-acb7-48f0-866c-f543f4cc8ae1",
   "metadata": {},
   "source": [
    "#3. Find the shape, size and dimension of the following array?\n",
    "[[1, 2, 3, 4],\n",
    "[5, 6, 7, 8],\n",
    "[9, 10, 11, 12]]\n",
    "\n"
   ]
  },
  {
   "cell_type": "code",
   "execution_count": 1,
   "id": "419b23a4-4971-4751-a101-229de4ec15ef",
   "metadata": {},
   "outputs": [],
   "source": [
    "list1 =([[1, 2, 3, 4],[5, 6, 7, 8],[9, 10, 11, 12]])\n",
    "import numpy as np\n",
    "arr = np.array(list1)"
   ]
  },
  {
   "cell_type": "code",
   "execution_count": 2,
   "id": "70a8f4b1-d7f7-4702-88cf-03a3bcc72797",
   "metadata": {},
   "outputs": [
    {
     "data": {
      "text/plain": [
       "array([[ 1,  2,  3,  4],\n",
       "       [ 5,  6,  7,  8],\n",
       "       [ 9, 10, 11, 12]])"
      ]
     },
     "execution_count": 2,
     "metadata": {},
     "output_type": "execute_result"
    }
   ],
   "source": [
    "arr"
   ]
  },
  {
   "cell_type": "code",
   "execution_count": 17,
   "id": "9f53c600-50c6-4af0-9e15-f6f213d78c15",
   "metadata": {},
   "outputs": [
    {
     "data": {
      "text/plain": [
       "2"
      ]
     },
     "execution_count": 17,
     "metadata": {},
     "output_type": "execute_result"
    }
   ],
   "source": [
    "arr.ndim"
   ]
  },
  {
   "cell_type": "code",
   "execution_count": 18,
   "id": "67e6d1a6-2a1a-4ff7-8527-227fb84afa92",
   "metadata": {},
   "outputs": [
    {
     "data": {
      "text/plain": [
       "12"
      ]
     },
     "execution_count": 18,
     "metadata": {},
     "output_type": "execute_result"
    }
   ],
   "source": [
    "arr.size"
   ]
  },
  {
   "cell_type": "code",
   "execution_count": 19,
   "id": "77cb185d-9229-4228-8139-0bca8a482502",
   "metadata": {},
   "outputs": [
    {
     "data": {
      "text/plain": [
       "(3, 4)"
      ]
     },
     "execution_count": 19,
     "metadata": {},
     "output_type": "execute_result"
    }
   ],
   "source": [
    "arr.shape"
   ]
  },
  {
   "cell_type": "markdown",
   "id": "ef7c3588-f299-4d3f-b779-718dfd9101f8",
   "metadata": {},
   "source": [
    "#4. Write python code to access the first row of the following array?\n",
    "[[1, 2, 3, 4]\n",
    "[5, 6, 7, 8],\n",
    "[9, 10, 11, 12]]"
   ]
  },
  {
   "cell_type": "markdown",
   "id": "b73116a6-96df-4041-bb1a-985fda541902",
   "metadata": {},
   "source": [
    "arr"
   ]
  },
  {
   "cell_type": "code",
   "execution_count": 23,
   "id": "1a72134f-2a0e-448e-9374-cb4eb695d5c3",
   "metadata": {},
   "outputs": [
    {
     "data": {
      "text/plain": [
       "array([1, 2, 3, 4])"
      ]
     },
     "execution_count": 23,
     "metadata": {},
     "output_type": "execute_result"
    }
   ],
   "source": [
    "arr[0]"
   ]
  },
  {
   "cell_type": "markdown",
   "id": "afd08ec9-9626-469e-8852-dafde96e6c6b",
   "metadata": {},
   "source": [
    "#5. How do you access the element at the third row and fourth column from the given numpy array?\n",
    "[[1, 2, 3, 4]\n",
    "[5, 6, 7, 8],\n",
    "[9, 10, 11, 12]]"
   ]
  },
  {
   "cell_type": "code",
   "execution_count": 29,
   "id": "b6193b0d-a187-4cd9-9ed0-3e784ab13f27",
   "metadata": {},
   "outputs": [
    {
     "data": {
      "text/plain": [
       "array([[ 1,  2,  3,  4],\n",
       "       [ 5,  6,  7,  8],\n",
       "       [ 9, 10, 11, 12]])"
      ]
     },
     "execution_count": 29,
     "metadata": {},
     "output_type": "execute_result"
    }
   ],
   "source": [
    "arr"
   ]
  },
  {
   "cell_type": "code",
   "execution_count": 30,
   "id": "43ad09b0-2131-4b3e-a05c-72539d661872",
   "metadata": {},
   "outputs": [
    {
     "data": {
      "text/plain": [
       "12"
      ]
     },
     "execution_count": 30,
     "metadata": {},
     "output_type": "execute_result"
    }
   ],
   "source": [
    "arr[2,3]"
   ]
  },
  {
   "cell_type": "markdown",
   "id": "e9715f4e-2cb1-43c3-856b-f5e6a8637335",
   "metadata": {},
   "source": [
    "6. Write code to extract all odd-indexed elements from the given numpy array?\n",
    "[[1, 2, 3, 4]\n",
    "[5, 6, 7, 8],\n",
    "[9, 10, 11, 12]]"
   ]
  },
  {
   "cell_type": "code",
   "execution_count": 3,
   "id": "4a2cea6b-de66-425d-abea-3b67af41b434",
   "metadata": {},
   "outputs": [
    {
     "data": {
      "text/plain": [
       "array([[ 1,  2,  3,  4],\n",
       "       [ 5,  6,  7,  8],\n",
       "       [ 9, 10, 11, 12]])"
      ]
     },
     "execution_count": 3,
     "metadata": {},
     "output_type": "execute_result"
    }
   ],
   "source": [
    "arr"
   ]
  },
  {
   "cell_type": "code",
   "execution_count": 63,
   "id": "38a09d83-953c-4391-833d-80fd6680cbad",
   "metadata": {},
   "outputs": [
    {
     "data": {
      "text/plain": [
       "array([[ 1,  3],\n",
       "       [ 5,  7],\n",
       "       [ 9, 11]])"
      ]
     },
     "execution_count": 63,
     "metadata": {},
     "output_type": "execute_result"
    }
   ],
   "source": [
    "odd_indexed=arr[:, 0:3:2]\n",
    "odd_indexed "
   ]
  },
  {
   "cell_type": "code",
   "execution_count": 65,
   "id": "16d8c839-559c-4ba1-9fa0-83f3ec017d70",
   "metadata": {},
   "outputs": [
    {
     "data": {
      "text/plain": [
       "array([[ 1,  3],\n",
       "       [ 5,  7],\n",
       "       [ 9, 11]])"
      ]
     },
     "execution_count": 65,
     "metadata": {},
     "output_type": "execute_result"
    }
   ],
   "source": [
    "arr[:,0::2]"
   ]
  },
  {
   "cell_type": "markdown",
   "id": "20216a7d-54cf-4aa5-9a65-b1777d1ac848",
   "metadata": {},
   "source": [
    "7. How can you generate a random 3x3 matrix with values between 0 and 1?"
   ]
  },
  {
   "cell_type": "code",
   "execution_count": 23,
   "id": "c53666f2-4301-471b-949f-f9a9a4605d77",
   "metadata": {},
   "outputs": [
    {
     "data": {
      "text/plain": [
       "array([[0.11041547, 0.02233492, 0.75827883],\n",
       "       [0.93956185, 0.7270932 , 0.27233025],\n",
       "       [0.86700807, 0.52801634, 0.46255912]])"
      ]
     },
     "execution_count": 23,
     "metadata": {},
     "output_type": "execute_result"
    }
   ],
   "source": [
    "np.random.rand(3,3)"
   ]
  },
  {
   "cell_type": "raw",
   "id": "c8c7e483-de28-4152-8200-798c0358042c",
   "metadata": {},
   "source": [
    "#8. Describe the difference between np.random.rand and np.random.randn?\n",
    "\n",
    "np.random.rand:\n",
    "The np.random.rand function generates random numbers from a uniform distribution over the interval [0, 1).\n",
    "It takes dimensions as arguments and returns an array of shape specified by those dimensions, where each element is a random number between 0 (inclusive) and 1 (exclusive).\n",
    "\n",
    "Note: Above  problem 7 is example of np.random.rand\n",
    "\n",
    "\n",
    "np.random.randn:\n",
    "The np.random.randn function generates random numbers from a standard normal distribution (mean = 0, standard deviation = 1).\n",
    "Like np.random.rand, it also takes dimensions as arguments and returns an array of shape specified by those dimensions.\n",
    "\n",
    "Note: Below is the example of np.random.randn"
   ]
  },
  {
   "cell_type": "code",
   "execution_count": 22,
   "id": "88ec861f-c35f-4f06-884d-0a205e35c21d",
   "metadata": {},
   "outputs": [
    {
     "data": {
      "text/plain": [
       "array([[ 1.29288723,  0.14000738, -0.04003995],\n",
       "       [-2.20353086, -0.51665435, -1.46677006],\n",
       "       [-1.25850524, -1.2890852 ,  1.79816761]])"
      ]
     },
     "execution_count": 22,
     "metadata": {},
     "output_type": "execute_result"
    }
   ],
   "source": [
    "np.random.randn(3,3)"
   ]
  },
  {
   "cell_type": "markdown",
   "id": "4ca0bed8-a817-4897-9284-241cc91a6fcc",
   "metadata": {},
   "source": [
    "#9. Write code to increase the dimension of the following array?\n",
    "[[1, 2, 3, 4]\n",
    "[5, 6, 7, 8],\n",
    "[9, 10, 11, 12]]"
   ]
  },
  {
   "cell_type": "code",
   "execution_count": 24,
   "id": "b8be02f9-e85b-45f7-9cc0-abd41864f433",
   "metadata": {},
   "outputs": [
    {
     "data": {
      "text/plain": [
       "array([[ 1,  2,  3,  4],\n",
       "       [ 5,  6,  7,  8],\n",
       "       [ 9, 10, 11, 12]])"
      ]
     },
     "execution_count": 24,
     "metadata": {},
     "output_type": "execute_result"
    }
   ],
   "source": [
    "arr"
   ]
  },
  {
   "cell_type": "code",
   "execution_count": 25,
   "id": "03ecbbd5-b527-437f-a9b7-53ad09b9f1e3",
   "metadata": {},
   "outputs": [
    {
     "data": {
      "text/plain": [
       "2"
      ]
     },
     "execution_count": 25,
     "metadata": {},
     "output_type": "execute_result"
    }
   ],
   "source": [
    "arr.ndim"
   ]
  },
  {
   "cell_type": "code",
   "execution_count": 26,
   "id": "e0db2281-f761-4602-98c5-e13344e1b6e3",
   "metadata": {},
   "outputs": [
    {
     "data": {
      "text/plain": [
       "12"
      ]
     },
     "execution_count": 26,
     "metadata": {},
     "output_type": "execute_result"
    }
   ],
   "source": [
    "arr.size"
   ]
  },
  {
   "cell_type": "code",
   "execution_count": 30,
   "id": "64897efc-1527-4b6f-96ca-bc4753e1f627",
   "metadata": {},
   "outputs": [
    {
     "data": {
      "text/plain": [
       "array([[[ 1,  2],\n",
       "        [ 3,  4],\n",
       "        [ 5,  6]],\n",
       "\n",
       "       [[ 7,  8],\n",
       "        [ 9, 10],\n",
       "        [11, 12]]])"
      ]
     },
     "execution_count": 30,
     "metadata": {},
     "output_type": "execute_result"
    }
   ],
   "source": [
    "# We can increase the dimension of array with out change the size of array\n",
    "arr.reshape(2,3,2)"
   ]
  },
  {
   "cell_type": "markdown",
   "id": "203d6501-a899-44ef-a55c-d7b9be256267",
   "metadata": {},
   "source": [
    "10. How to transpose the following array in NumPy?\n",
    "[[1, 2, 3, 4]\n",
    "[5, 6, 7, 8],\n",
    "[9, 10, 11, 12]]"
   ]
  },
  {
   "cell_type": "code",
   "execution_count": 31,
   "id": "f0e00e27-5b1b-4f52-addf-a3c1a36e1a96",
   "metadata": {},
   "outputs": [
    {
     "data": {
      "text/plain": [
       "array([[ 1,  2,  3,  4],\n",
       "       [ 5,  6,  7,  8],\n",
       "       [ 9, 10, 11, 12]])"
      ]
     },
     "execution_count": 31,
     "metadata": {},
     "output_type": "execute_result"
    }
   ],
   "source": [
    "arr"
   ]
  },
  {
   "cell_type": "code",
   "execution_count": 34,
   "id": "0e3f425a-d628-44d7-aed4-889575e06f12",
   "metadata": {},
   "outputs": [
    {
     "data": {
      "text/plain": [
       "array([[ 1,  5,  9],\n",
       "       [ 2,  6, 10],\n",
       "       [ 3,  7, 11],\n",
       "       [ 4,  8, 12]])"
      ]
     },
     "execution_count": 34,
     "metadata": {},
     "output_type": "execute_result"
    }
   ],
   "source": [
    "arr1 =arr.T\n",
    "arr1"
   ]
  },
  {
   "cell_type": "markdown",
   "id": "7537604d-aa56-4770-afda-71be3d27b424",
   "metadata": {},
   "source": [
    "\n",
    "\n",
    "#11. Consider the following matrix:\n",
    "Matrix A2: [[1, 2, 3, 4],[5, 6, 7, 8],[9, 10, 11, 12]]\n",
    "Matrix B2: [[1, 2, 3, 4],[5, 6, 7, 8],[9, 10, 11, 12]]"
   ]
  },
  {
   "cell_type": "code",
   "execution_count": 39,
   "id": "91fd8f89-519b-4bd5-a31f-ebb091e5a759",
   "metadata": {},
   "outputs": [],
   "source": [
    "A = np.array([[1, 2, 3, 4],[5, 6, 7, 8],[9, 10, 11, 12]])\n",
    "B = np.array([[1, 2, 3, 4],[5, 6, 7, 8],[9, 10, 11, 12]])"
   ]
  },
  {
   "cell_type": "code",
   "execution_count": 58,
   "id": "4c473e08-97ff-4746-9477-3893c709aca3",
   "metadata": {},
   "outputs": [
    {
     "data": {
      "text/plain": [
       "array([[  1,   4,   9,  16],\n",
       "       [ 25,  36,  49,  64],\n",
       "       [ 81, 100, 121, 144]])"
      ]
     },
     "execution_count": 58,
     "metadata": {},
     "output_type": "execute_result"
    }
   ],
   "source": [
    "#Perform the following operation using Python:\n",
    "#1 Index wise multiplication'''\n",
    "M =A * B\n",
    "M"
   ]
  },
  {
   "cell_type": "code",
   "execution_count": 56,
   "id": "65a68d9f-35cf-4101-9ed9-b5671facc7aa",
   "metadata": {},
   "outputs": [
    {
     "data": {
      "text/plain": [
       "((3, 4), (3, 4))"
      ]
     },
     "execution_count": 56,
     "metadata": {},
     "output_type": "execute_result"
    }
   ],
   "source": [
    "#2. Matrix multiplication\n",
    "# To do Matrix multiplication, the columns of A must be equal rows of B then only the Matrix multiplication is possible\n",
    "# To do that we need to use Transpose of B to make the coulums of B in to rows of B, for matirx Multiplication possible\n",
    "\n",
    "A.shape, B.shape"
   ]
  },
  {
   "cell_type": "markdown",
   "id": "1c4c4e49-61c6-4b66-84d3-7f0db8c39443",
   "metadata": {},
   "source": [
    "Here, for matrix multiplication is not possible,  columns of A = 4 !=3 rows of B, In this scenario we can make Transpose of any one Matrix, then we can do Matrix multiplication"
   ]
  },
  {
   "cell_type": "code",
   "execution_count": 57,
   "id": "55ed99c6-2723-458f-ba01-9dce6bc81980",
   "metadata": {},
   "outputs": [
    {
     "data": {
      "text/plain": [
       "array([[ 30,  70, 110],\n",
       "       [ 70, 174, 278],\n",
       "       [110, 278, 446]])"
      ]
     },
     "execution_count": 57,
     "metadata": {},
     "output_type": "execute_result"
    }
   ],
   "source": [
    "A @ B.T"
   ]
  },
  {
   "cell_type": "code",
   "execution_count": 47,
   "id": "addf12be-9569-4102-8571-fa02e1f5ccfa",
   "metadata": {},
   "outputs": [
    {
     "data": {
      "text/plain": [
       "array([[ 2,  4,  6,  8],\n",
       "       [10, 12, 14, 16],\n",
       "       [18, 20, 22, 24]])"
      ]
     },
     "execution_count": 47,
     "metadata": {},
     "output_type": "execute_result"
    }
   ],
   "source": [
    "#3. Add both the matrices\n",
    "C =A + B\n",
    "C"
   ]
  },
  {
   "cell_type": "code",
   "execution_count": 46,
   "id": "eb6b39c8-6707-4d10-9373-b84e2dadb07f",
   "metadata": {},
   "outputs": [
    {
     "data": {
      "text/plain": [
       "array([[0, 0, 0, 0],\n",
       "       [0, 0, 0, 0],\n",
       "       [0, 0, 0, 0]])"
      ]
     },
     "execution_count": 46,
     "metadata": {},
     "output_type": "execute_result"
    }
   ],
   "source": [
    "#4.Subtract  the matrix B from A\n",
    "S =A - B\n",
    "S"
   ]
  },
  {
   "cell_type": "code",
   "execution_count": 49,
   "id": "78e7e793-3707-48d8-9ff9-ef77c0a72e43",
   "metadata": {},
   "outputs": [
    {
     "data": {
      "text/plain": [
       "array([[1., 1., 1., 1.],\n",
       "       [1., 1., 1., 1.],\n",
       "       [1., 1., 1., 1.]])"
      ]
     },
     "execution_count": 49,
     "metadata": {},
     "output_type": "execute_result"
    }
   ],
   "source": [
    "#5 Divide  the matrices B by A\n",
    "D = B/A\n",
    "D\n"
   ]
  },
  {
   "cell_type": "markdown",
   "id": "88e7d1a7-c868-4755-a611-3693677b928b",
   "metadata": {},
   "source": [
    "\n",
    "\n",
    "##12. Which function in Numpy can be used to swap the byte order of an array?"
   ]
  },
  {
   "cell_type": "markdown",
   "id": "08186957-66b2-498b-8388-c0991edf69a8",
   "metadata": {},
   "source": [
    "In NumPy, we can use the byteswap function to swap the byte order of an array. This function is used to swap the byte order of the elements of the array without changing the actual data.\n",
    "\n",
    "The byteswap function takes an optional parameter called byteorder, which specifies the byte order to which the array should be swapped."
   ]
  },
  {
   "cell_type": "code",
   "execution_count": 67,
   "id": "bc129425-0048-413c-a498-6c8e4a3d9909",
   "metadata": {},
   "outputs": [
    {
     "data": {
      "text/plain": [
       "array([[ 72057594037927936, 144115188075855872, 216172782113783808,\n",
       "        288230376151711744],\n",
       "       [360287970189639680, 432345564227567616, 504403158265495552,\n",
       "        576460752303423488],\n",
       "       [648518346341351424, 720575940379279360, 792633534417207296,\n",
       "        864691128455135232]])"
      ]
     },
     "execution_count": 67,
     "metadata": {},
     "output_type": "execute_result"
    }
   ],
   "source": [
    "arr1 = arr.byteswap()\n",
    "arr1"
   ]
  },
  {
   "cell_type": "markdown",
   "id": "e71c72ab-df1d-4f01-a768-d657459b2a24",
   "metadata": {},
   "source": [
    "13. What is the significance of the np.linalg.inv function?\n",
    "\n",
    "The np.linalg.inv function in NumPy is used to compute the inverse of a square matrix. If you have a square matrix A, then its inverse, denoted as A^{-1}, is a matrix such that when A is multiplied by its inverse, the result is the identity matrix."
   ]
  },
  {
   "cell_type": "code",
   "execution_count": 85,
   "id": "445160d9-bfa0-4324-896d-120bf4fc4014",
   "metadata": {},
   "outputs": [
    {
     "data": {
      "text/plain": [
       "array([[1, 2],\n",
       "       [3, 2]])"
      ]
     },
     "execution_count": 85,
     "metadata": {},
     "output_type": "execute_result"
    }
   ],
   "source": [
    "#Example for np.linal.inv:\n",
    "A = np.array([[1,2],[3,2]])\n",
    "A"
   ]
  },
  {
   "cell_type": "code",
   "execution_count": 86,
   "id": "72af0dcc-4238-46f6-9719-89753b205de8",
   "metadata": {},
   "outputs": [
    {
     "data": {
      "text/plain": [
       "array([[-0.5 ,  0.5 ],\n",
       "       [ 0.75, -0.25]])"
      ]
     },
     "execution_count": 86,
     "metadata": {},
     "output_type": "execute_result"
    }
   ],
   "source": [
    "A_inv =np.linalg.inv(a)\n",
    "A_inv"
   ]
  },
  {
   "cell_type": "markdown",
   "id": "e6989a72-3acc-4b03-b780-3da6265b8a29",
   "metadata": {},
   "source": [
    "14. What does the np.reshape function do, and how is it used?\n",
    "\n",
    "The np.reshape function in NumPy is used to change the shape of an array while maintaining the same data/size. It allows/ used you to reorganize the elements of an array into a different shape without altering their values. The reshaping is done by specifying the desired shape of the output array.\n",
    "It also helps to increase the dimension without alterating the data/size"
   ]
  },
  {
   "cell_type": "code",
   "execution_count": 99,
   "id": "562f2e63-5dd1-4dfd-9e7c-730e40f98cf4",
   "metadata": {},
   "outputs": [
    {
     "data": {
      "text/plain": [
       "array([[ 1,  2,  3,  4],\n",
       "       [ 5,  6,  7,  8],\n",
       "       [ 9, 10, 11, 12]])"
      ]
     },
     "execution_count": 99,
     "metadata": {},
     "output_type": "execute_result"
    }
   ],
   "source": [
    "# Example for reshape\n",
    "arr"
   ]
  },
  {
   "cell_type": "code",
   "execution_count": 89,
   "id": "bdd27de9-0d40-4419-bdbd-e37934d1ca74",
   "metadata": {},
   "outputs": [
    {
     "data": {
      "text/plain": [
       "array([[ 1,  2,  3],\n",
       "       [ 4,  5,  6],\n",
       "       [ 7,  8,  9],\n",
       "       [10, 11, 12]])"
      ]
     },
     "execution_count": 89,
     "metadata": {},
     "output_type": "execute_result"
    }
   ],
   "source": [
    "arr.reshape(4,3)"
   ]
  },
  {
   "cell_type": "code",
   "execution_count": 92,
   "id": "9682d769-90dc-43e1-aed8-d2fe9f526043",
   "metadata": {},
   "outputs": [
    {
     "data": {
      "text/plain": [
       "2"
      ]
     },
     "execution_count": 92,
     "metadata": {},
     "output_type": "execute_result"
    }
   ],
   "source": [
    "arr.ndim"
   ]
  },
  {
   "cell_type": "code",
   "execution_count": 98,
   "id": "1434ea68-7753-4e99-a0fb-65860bffdcd6",
   "metadata": {},
   "outputs": [
    {
     "data": {
      "text/plain": [
       "array([[[ 1,  2,  3],\n",
       "        [ 4,  5,  6]],\n",
       "\n",
       "       [[ 7,  8,  9],\n",
       "        [10, 11, 12]]])"
      ]
     },
     "execution_count": 98,
     "metadata": {},
     "output_type": "execute_result"
    }
   ],
   "source": [
    "arr4 =arr.reshape(2,2,3)\n",
    "arr4"
   ]
  },
  {
   "cell_type": "code",
   "execution_count": 96,
   "id": "abff95b8-6602-4bb3-b592-ecb8bbc54326",
   "metadata": {},
   "outputs": [
    {
     "data": {
      "text/plain": [
       "3"
      ]
     },
     "execution_count": 96,
     "metadata": {},
     "output_type": "execute_result"
    }
   ],
   "source": [
    "arr4.ndim"
   ]
  },
  {
   "cell_type": "markdown",
   "id": "fce2141c-65e4-4740-97ed-2fccf900d827",
   "metadata": {},
   "source": [
    "15. What is broadcasting in Numpy?\n",
    "\n",
    "\n",
    "Broadcasting in NumPy is a powerful mechanism that allows for operations between arrays of different shapes and sizes. When performing element-wise operations between two arrays, NumPy automatically broadcasts the smaller array to the shape of the larger one, so they can be combined without explicitly replicating the smaller array.\n",
    "\n",
    "Broadcasting involves two steps:\n",
    "\n",
    "Size Compatibility: The dimensions of the arrays are compared element-wise, starting from the rightmost dimensions. Two dimensions are compatible when they are equal or one of them is 1. If these conditions are not met, NumPy raises a ValueError.\n",
    "\n",
    "Broadcasting: If the dimensions are compatible, NumPy performs broadcasting, which means it virtually replicates the smaller array along the missing dimensions. This is done without actually creating multiple copies of the array in memory, making it memory-efficient."
   ]
  },
  {
   "cell_type": "code",
   "execution_count": 113,
   "id": "08f2419f-93f8-4ff4-8c05-e23dc6d9ac2a",
   "metadata": {},
   "outputs": [
    {
     "data": {
      "text/plain": [
       "array([[ 1,  2,  3,  4],\n",
       "       [ 5,  6,  7,  8],\n",
       "       [ 9, 10, 11, 12]])"
      ]
     },
     "execution_count": 113,
     "metadata": {},
     "output_type": "execute_result"
    }
   ],
   "source": [
    "# Example for broadcasting:\n",
    "arr "
   ]
  },
  {
   "cell_type": "code",
   "execution_count": 101,
   "id": "d0025adb-1e1e-4992-9d77-91bacd0da54c",
   "metadata": {},
   "outputs": [
    {
     "data": {
      "text/plain": [
       "array([[11, 12, 13, 14],\n",
       "       [15, 16, 17, 18],\n",
       "       [19, 20, 21, 22]])"
      ]
     },
     "execution_count": 101,
     "metadata": {},
     "output_type": "execute_result"
    }
   ],
   "source": [
    "arr +10"
   ]
  },
  {
   "cell_type": "code",
   "execution_count": 109,
   "id": "bfd1a70f-78f2-4ab1-8fa0-be0a41a830c9",
   "metadata": {},
   "outputs": [
    {
     "data": {
      "text/plain": [
       "array([1, 2, 3, 4])"
      ]
     },
     "execution_count": 109,
     "metadata": {},
     "output_type": "execute_result"
    }
   ],
   "source": [
    "a = np.array([1,2,3,4])\n",
    "a"
   ]
  },
  {
   "cell_type": "code",
   "execution_count": 103,
   "id": "281cb714-ca29-48b9-839d-ccca149e6002",
   "metadata": {},
   "outputs": [
    {
     "data": {
      "text/plain": [
       "array([[ 2,  4,  6,  8],\n",
       "       [ 6,  8, 10, 12],\n",
       "       [10, 12, 14, 16]])"
      ]
     },
     "execution_count": 103,
     "metadata": {},
     "output_type": "execute_result"
    }
   ],
   "source": [
    "arr +a"
   ]
  },
  {
   "cell_type": "code",
   "execution_count": 116,
   "id": "724f94c7-815e-4b59-9241-db0fe87f946c",
   "metadata": {},
   "outputs": [
    {
     "data": {
      "text/plain": [
       "array([[1, 2, 3, 4],\n",
       "       [5, 6, 7, 8]])"
      ]
     },
     "execution_count": 116,
     "metadata": {},
     "output_type": "execute_result"
    }
   ],
   "source": [
    "b = np.array([[ 1,  2,  3,  4],\n",
    "       [ 5,  6,  7,  8]])\n",
    "b"
   ]
  },
  {
   "cell_type": "code",
   "execution_count": null,
   "id": "58753928-6bc1-47d8-920b-478a5d12d6a7",
   "metadata": {},
   "outputs": [],
   "source": []
  }
 ],
 "metadata": {
  "kernelspec": {
   "display_name": "Python 3 (ipykernel)",
   "language": "python",
   "name": "python3"
  },
  "language_info": {
   "codemirror_mode": {
    "name": "ipython",
    "version": 3
   },
   "file_extension": ".py",
   "mimetype": "text/x-python",
   "name": "python",
   "nbconvert_exporter": "python",
   "pygments_lexer": "ipython3",
   "version": "3.10.8"
  }
 },
 "nbformat": 4,
 "nbformat_minor": 5
}
